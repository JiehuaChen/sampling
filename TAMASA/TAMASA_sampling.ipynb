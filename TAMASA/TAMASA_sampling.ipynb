{
 "cells": [
  {
   "cell_type": "code",
   "execution_count": 1,
   "metadata": {
    "collapsed": false
   },
   "outputs": [],
   "source": [
    "import shapefile\n",
    "import os\n",
    "import random\n",
    "import gdal\n",
    "import numpy as np\n",
    "import pandas as pd\n",
    "import string\n",
    "import pyproj\n",
    "from itertools import product\n",
    "import shapely.geometry\n",
    "import math\n",
    "import spatial_csv_to_kml"
   ]
  },
  {
   "cell_type": "markdown",
   "metadata": {},
   "source": [
    "### 1. Pre-defined functions"
   ]
  },
  {
   "cell_type": "markdown",
   "metadata": {},
   "source": [
    "#### 1.1 Creating sampling squares"
   ]
  },
  {
   "cell_type": "code",
   "execution_count": 2,
   "metadata": {
    "collapsed": false
   },
   "outputs": [],
   "source": [
    "def create_square(x, y, pixelWidth, pixelHeight):\n",
    "    \"\"\"\n",
    "    Returns a square as an instance of shapely.geometry.Polygon.\n",
    "    Args:\n",
    "        x, y: center of the square\n",
    "        side: side length of the square\n",
    "    \"\"\"\n",
    "    return shapely.geometry.Polygon([(x, y), \n",
    "                                     (x + pixelWidth, y),\n",
    "                                     (x + pixelWidth, y + pixelHeight),\n",
    "                                     (x, y + pixelHeight)])\n",
    "\n"
   ]
  },
  {
   "cell_type": "markdown",
   "metadata": {},
   "source": [
    "#### 1.2 Calculating GID"
   ]
  },
  {
   "cell_type": "code",
   "execution_count": 3,
   "metadata": {
    "collapsed": true
   },
   "outputs": [],
   "source": [
    "def GID(location):\n",
    "    res_pixel = 1000\n",
    "    xgid = int(math.floor(math.fabs(location[0])/res_pixel))\n",
    "    ygid = int(math.floor(math.fabs(location[1])/res_pixel))\n",
    "    if location[0]<0:\n",
    "        gidx = \"W\"+str(xgid)\n",
    "    else:\n",
    "        gidx = \"E\"+str(xgid)\n",
    "    if location[1]<0:\n",
    "        gidy = \"S\"+ str(ygid)\n",
    "    else:\n",
    "        gidy=\"N\"+str(ygid)\n",
    "        \n",
    "    GID=gidx+\"-\"+gidy\n",
    "    return GID\n"
   ]
  },
  {
   "cell_type": "markdown",
   "metadata": {},
   "source": [
    "### 2. Create the ROI cropland prediction map"
   ]
  },
  {
   "cell_type": "markdown",
   "metadata": {},
   "source": [
    "first, download geosurvey cropland prediction map from \n",
    "https://www.dropbox.com/s/209iemv4b2jla9f/geosurvey_h2o_crp_predictions.tif?dl=0\n",
    "\n",
    "\n",
    "then, create a shape file for your ROI projected in '+proj=laea +lat_0=5 +lon_0=20 +ellps=WGS84 +units=m +no_defs'"
   ]
  },
  {
   "cell_type": "markdown",
   "metadata": {},
   "source": [
    "#### 2.1 Using the ROI shapefile (projected in '+proj=laea +lat_0=5 +lon_0=20 +ellps=WGS84 +units=m +no_defs') clipping geosurvey cropland prediction map"
   ]
  },
  {
   "cell_type": "code",
   "execution_count": 4,
   "metadata": {
    "collapsed": true
   },
   "outputs": [],
   "source": [
    "shpfile  = \"roi_shp/adami_tuli_NOT_laea.shp\"\n",
    "inputfile = \"geosurvey_h2o_crp_predictions.tif\""
   ]
  },
  {
   "cell_type": "code",
   "execution_count": 5,
   "metadata": {
    "collapsed": false
   },
   "outputs": [
    {
     "data": {
      "text/plain": [
       "0"
      ]
     },
     "execution_count": 5,
     "metadata": {},
     "output_type": "execute_result"
    }
   ],
   "source": [
    "cmd = \"gdalwarp -cutline \" + shpfile + \" -crop_to_cutline -srcnodata \\\"nan\\\" -dstnodata \\\"nan\\\" \"+ inputfile+ \" output.tif\"\n",
    "os.system(cmd)\n"
   ]
  },
  {
   "cell_type": "markdown",
   "metadata": {},
   "source": [
    "#### 2.2 find pixels with  presence probability larger than cutoff (here set 0.5) in geosurvey crop prediction map"
   ]
  },
  {
   "cell_type": "code",
   "execution_count": 6,
   "metadata": {
    "collapsed": false
   },
   "outputs": [],
   "source": [
    "cutoff=0.5"
   ]
  },
  {
   "cell_type": "code",
   "execution_count": 7,
   "metadata": {
    "collapsed": false
   },
   "outputs": [],
   "source": [
    "crpdat = gdal.Open(\"output.tif\", gdal.GA_ReadOnly)\n",
    "crp_prob_np = np.asarray(crpdat.GetRasterBand(1).ReadAsArray())\n",
    "originX, pixelWidth, rx, originY, ry, pixelHeight=crpdat.GetGeoTransform()\n",
    "\n",
    "crp_presence_loc = np.where(crp_prob_np>cutoff)\n",
    "n_presence = crp_presence_loc[0].shape[0]"
   ]
  },
  {
   "cell_type": "markdown",
   "metadata": {},
   "source": [
    "#### delete the temporary file \"output.tif\""
   ]
  },
  {
   "cell_type": "code",
   "execution_count": 8,
   "metadata": {
    "collapsed": false
   },
   "outputs": [
    {
     "data": {
      "text/plain": [
       "0"
      ]
     },
     "execution_count": 8,
     "metadata": {},
     "output_type": "execute_result"
    }
   ],
   "source": [
    "cmd = \"rm output.tif\"\n",
    "os.system(cmd)"
   ]
  },
  {
   "cell_type": "markdown",
   "metadata": {},
   "source": [
    "#### 2.3 ROI boundary"
   ]
  },
  {
   "cell_type": "code",
   "execution_count": 9,
   "metadata": {
    "collapsed": false
   },
   "outputs": [],
   "source": [
    "shp = shapefile.Reader(shpfile, 'rb')\n",
    "shape = shp.shapes()[0]\n",
    "polygon = shapely.geometry.asShape(shape)"
   ]
  },
  {
   "cell_type": "markdown",
   "metadata": {},
   "source": [
    "### 3. Start Sampling "
   ]
  },
  {
   "cell_type": "markdown",
   "metadata": {},
   "source": [
    "#### 3.1 set number of 1k by 1k grids (n) and number of 100m by 100m grid centers for each 1k by 1k grid (n_pixel) to be sampled"
   ]
  },
  {
   "cell_type": "code",
   "execution_count": 10,
   "metadata": {
    "collapsed": true
   },
   "outputs": [],
   "source": [
    "res_1 = 1000 \n",
    "res_2 = 100"
   ]
  },
  {
   "cell_type": "code",
   "execution_count": 11,
   "metadata": {
    "collapsed": false
   },
   "outputs": [],
   "source": [
    "n = 10\n",
    "n_pixel = 10"
   ]
  },
  {
   "cell_type": "markdown",
   "metadata": {},
   "source": [
    "#### 3.2 Sampling Start"
   ]
  },
  {
   "cell_type": "code",
   "execution_count": 12,
   "metadata": {
    "collapsed": false
   },
   "outputs": [],
   "source": [
    "sampled_locs =[]\n",
    "sampled_locs_idx = []  \n",
    "sampled_1k_locs = []\n",
    "GID_1k = []\n",
    "GID_100m = []\n",
    "i = 0    \n",
    "while i<n:   \n",
    "    init_flag = True\n",
    "    \"\"\"\n",
    "    only keep the squares which are completely contained in the polygon\n",
    "    \"\"\"\n",
    "    while init_flag or not polygon.contains(pixel_current) or sampled_loc_idx in sampled_locs_idx:\n",
    "        init_flag = False\n",
    "        sampled_loc_idx = random.sample(xrange(n_presence), 1)\n",
    "        x_current_origin = originX+ pixelWidth*crp_presence_loc[1][sampled_loc_idx[0]]\n",
    "        y_current_origin = originY + pixelHeight*crp_presence_loc[0][sampled_loc_idx[0]] \n",
    "        pixel_current = create_square(x_current_origin, y_current_origin, res_1, res_1)        \n",
    "\n",
    "    sampled_locs_idx.extend(np.repeat(sampled_loc_idx, n_pixel))\n",
    "    sampled_1k_locs.extend([[x_current_origin, y_current_origin] for x in xrange(n_pixel)])\n",
    "    \n",
    "    GID_1k.extend(np.repeat(GID([x_current_origin, y_current_origin]), n_pixel))\n",
    "    \n",
    "    \"\"\"\n",
    "    generate 100m by 100m grids\n",
    "    \"\"\"\n",
    "    grid_100m = map(lambda u: [u[0]+x_current_origin, u[1]+y_current_origin], list(product(xrange(-res_1/2+100/2, res_1/2, 100), xrange(-res_1/2+100/2, res_1/2, 100))))\n",
    "    sampled_100m_idx = random.sample(xrange(100), n_pixel)\n",
    "    GID_100m.extend([GID([x_current_origin, y_current_origin])+\"-\"+str(u) for u in sampled_100m_idx])\n",
    "    sampled = [grid_100m[u] for u in sampled_100m_idx]\n",
    "    sampled_locs.extend(sampled)\n",
    "    i += 1\n",
    "\n"
   ]
  },
  {
   "cell_type": "markdown",
   "metadata": {},
   "source": [
    "#### 3.3 project LAEA coordinates back to LL"
   ]
  },
  {
   "cell_type": "code",
   "execution_count": 13,
   "metadata": {
    "collapsed": false
   },
   "outputs": [],
   "source": [
    "project_string = '+proj=laea +lat_0=5 +lon_0=20 +ellps=WGS84 +units=m +no_defs' \n",
    "p = pyproj.Proj(project_string)\n",
    "sampled_locs_latlon = map(lambda x: list(p(x[0], x[1], inverse=True)), sampled_locs)\n",
    "sampled_1k_locs_latlon = map(lambda x: list(p(x[0], x[1], inverse=True)), sampled_1k_locs)"
   ]
  },
  {
   "cell_type": "markdown",
   "metadata": {},
   "source": [
    "### 4. output"
   ]
  },
  {
   "cell_type": "code",
   "execution_count": 14,
   "metadata": {
    "collapsed": true
   },
   "outputs": [],
   "source": [
    "output = [tuple(GID_1k)]\n",
    "output.extend(zip(*sampled_locs_latlon))\n",
    "output.extend([tuple(GID_100m)])\n",
    "output.extend(zip(*sampled_1k_locs_latlon))\n",
    "output_pd = pd.DataFrame(output)\n",
    "output_pd = output_pd.transpose()\n",
    "output_pd.columns = ['GID_1k', 'x', 'y', 'GID_100m', 'x_1k', \"y_1k\"]"
   ]
  },
  {
   "cell_type": "code",
   "execution_count": 15,
   "metadata": {
    "collapsed": false
   },
   "outputs": [],
   "source": [
    "if not os.path.exists('output'):\n",
    "    os.makedirs('output')\n",
    "if not os.path.exists('output/drone_flight_1k'):\n",
    "    os.makedirs('output/drone_flight_1k')   \n",
    "output_pd.to_csv('output/sampled_loc.csv', index=False)"
   ]
  },
  {
   "cell_type": "code",
   "execution_count": 16,
   "metadata": {
    "collapsed": false
   },
   "outputs": [
    {
     "name": "stdout",
     "output_type": "stream",
     "text": [
      "output/sampled_loc\n"
     ]
    }
   ],
   "source": [
    "spatial_csv_to_kml.csv_to_kml('output/sampled_loc.csv')\n"
   ]
  },
  {
   "cell_type": "markdown",
   "metadata": {},
   "source": [
    "spatial_csv_to_kml.csv_to_kml"
   ]
  },
  {
   "cell_type": "code",
   "execution_count": null,
   "metadata": {
    "collapsed": true
   },
   "outputs": [],
   "source": []
  }
 ],
 "metadata": {
  "kernelspec": {
   "display_name": "Python 2",
   "language": "python",
   "name": "python2"
  },
  "language_info": {
   "codemirror_mode": {
    "name": "ipython",
    "version": 2
   },
   "file_extension": ".py",
   "mimetype": "text/x-python",
   "name": "python",
   "nbconvert_exporter": "python",
   "pygments_lexer": "ipython2",
   "version": "2.7.10"
  }
 },
 "nbformat": 4,
 "nbformat_minor": 0
}
